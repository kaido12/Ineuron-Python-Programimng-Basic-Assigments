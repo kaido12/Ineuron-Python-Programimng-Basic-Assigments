{
  "nbformat": 4,
  "nbformat_minor": 0,
  "metadata": {
    "colab": {
      "name": "Python Program Basic Assigment 1.ipynb",
      "provenance": []
    },
    "kernelspec": {
      "name": "python3",
      "display_name": "Python 3"
    },
    "language_info": {
      "name": "python"
    }
  },
  "cells": [
    {
      "cell_type": "markdown",
      "source": [
        "### Q1 Write a Python program to print \"Hello Python\""
      ],
      "metadata": {
        "id": "Y4vywD4oyC3z"
      }
    },
    {
      "cell_type": "code",
      "source": [
        "print(\"Hello Python\")"
      ],
      "metadata": {
        "colab": {
          "base_uri": "https://localhost:8080/"
        },
        "id": "8SoErS8AyF8n",
        "outputId": "cf491ed2-9c94-40ae-ca7a-3e12fa6232e3"
      },
      "execution_count": 1,
      "outputs": [
        {
          "output_type": "stream",
          "name": "stdout",
          "text": [
            "Hello Python\n"
          ]
        }
      ]
    },
    {
      "cell_type": "markdown",
      "source": [
        "### Q2 Write a Python program to do arithmetical operations addition and division"
      ],
      "metadata": {
        "id": "ig83wJcsybMa"
      }
    },
    {
      "cell_type": "code",
      "source": [
        "a = float(input(\"Enter first number \"))\n",
        "b = float(input(\"Enter second number \"))\n",
        "\n",
        "c = a+b \n",
        "d = a/b\n",
        "\n",
        "print(\"Sum \",c)\n",
        "print(\"Division \",d)"
      ],
      "metadata": {
        "colab": {
          "base_uri": "https://localhost:8080/"
        },
        "id": "j1qIdeKpyeMQ",
        "outputId": "8216f877-2e09-468d-8232-b26e85247b96"
      },
      "execution_count": 2,
      "outputs": [
        {
          "output_type": "stream",
          "name": "stdout",
          "text": [
            "Enter first number 6\n",
            "Enter second number 3\n",
            "Sum  9.0\n",
            "Division  2.0\n"
          ]
        }
      ]
    },
    {
      "cell_type": "markdown",
      "source": [
        "### Q3 Write a Python program to find the area of a triangle\n"
      ],
      "metadata": {
        "id": "2-C59E2Bz4l1"
      }
    },
    {
      "cell_type": "code",
      "source": [
        "base = float(input(\"Enter base \"))\n",
        "height = float(input(\"Enter height \"))\n",
        "\n",
        "area = 0.5*base * height\n",
        "print(\"Area of Traiangle \", area)"
      ],
      "metadata": {
        "colab": {
          "base_uri": "https://localhost:8080/"
        },
        "id": "b98kjaRxzwJr",
        "outputId": "dfebd2a3-4d5e-4303-9844-021f3c3dbc49"
      },
      "execution_count": 3,
      "outputs": [
        {
          "output_type": "stream",
          "name": "stdout",
          "text": [
            "Enter base 12\n",
            "Enter height 6\n",
            "Area of Traiangle  36.0\n"
          ]
        }
      ]
    },
    {
      "cell_type": "markdown",
      "source": [
        "### Q4 Write a Python program to swap two variables"
      ],
      "metadata": {
        "id": "KRdXjBZg0nRK"
      }
    },
    {
      "cell_type": "code",
      "source": [
        "x = int(input(\"Enter first number \"))\n",
        "y = int(input(\"Enter second number \"))\n",
        "z=0\n",
        "z=x\n",
        "x=y\n",
        "y=z\n",
        "\n",
        "print(\"Swapped numbers \\n\", x, y)"
      ],
      "metadata": {
        "colab": {
          "base_uri": "https://localhost:8080/"
        },
        "id": "KwE5t94a0p31",
        "outputId": "5bc6eef6-a86a-45b3-d974-1df156a3eff7"
      },
      "execution_count": 4,
      "outputs": [
        {
          "output_type": "stream",
          "name": "stdout",
          "text": [
            "Enter first number 32\n",
            "Enter second number 67\n",
            "Swapped numbers \n",
            " 67 32\n"
          ]
        }
      ]
    },
    {
      "cell_type": "markdown",
      "source": [
        "### Q5 Write a Python program to generate a random number"
      ],
      "metadata": {
        "id": "Petzu5gw2qHQ"
      }
    },
    {
      "cell_type": "code",
      "source": [
        "import random\n",
        "\n",
        "print('Generated Random Number:',random.randint(0,1000))"
      ],
      "metadata": {
        "colab": {
          "base_uri": "https://localhost:8080/"
        },
        "id": "OkesBVxx3sNw",
        "outputId": "023106f4-42e8-4a42-a290-4e5a3943f5f7"
      },
      "execution_count": 5,
      "outputs": [
        {
          "output_type": "stream",
          "name": "stdout",
          "text": [
            "Generated Random Number: 654\n"
          ]
        }
      ]
    }
  ]
}