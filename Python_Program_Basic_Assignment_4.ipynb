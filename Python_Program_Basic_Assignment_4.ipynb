{
  "nbformat": 4,
  "nbformat_minor": 0,
  "metadata": {
    "colab": {
      "name": "Python_Program_Basic_Assignment_4.ipynb",
      "provenance": [],
      "collapsed_sections": []
    },
    "kernelspec": {
      "name": "python3",
      "display_name": "Python 3"
    },
    "language_info": {
      "name": "python"
    }
  },
  "cells": [
    {
      "cell_type": "markdown",
      "source": [
        "## 1. Write a Python Program to Find the Factorial of a Number"
      ],
      "metadata": {
        "id": "RDtXmz1ASPzh"
      }
    },
    {
      "cell_type": "code",
      "execution_count": 14,
      "metadata": {
        "colab": {
          "base_uri": "https://localhost:8080/"
        },
        "id": "0mFn12vuSEiE",
        "outputId": "18ba4ea8-e3bb-4c8a-82ca-044d89c1a6be"
      },
      "outputs": [
        {
          "output_type": "stream",
          "name": "stdout",
          "text": [
            "Enter a number:5\n",
            "The Factorial of 5 is 120\n"
          ]
        }
      ],
      "source": [
        "num = int(input(\"Enter a number:\"))\n",
        "fact = 1\n",
        "if num < 0:\n",
        "    print(\"Factorial does not exist for negative numbers\")\n",
        "elif num == 0:\n",
        "    print(\"The factorial of 0 is 1\")\n",
        "else:\n",
        "    for i in range(1,num+1):\n",
        "        fact = fact * i\n",
        "print(\"The Factorial of\",num,\"is\",fact)\n",
        "\n"
      ]
    },
    {
      "cell_type": "markdown",
      "source": [
        "##2. Write a Python Program to Display the multiplication Table"
      ],
      "metadata": {
        "id": "miwnMR8vSTRm"
      }
    },
    {
      "cell_type": "code",
      "source": [
        "num = int(input(\"Display multiplication table of \"))\n",
        "\n",
        "for i in range(1, 11):\n",
        "   print(num, 'x', i, '=', num*i)"
      ],
      "metadata": {
        "colab": {
          "base_uri": "https://localhost:8080/"
        },
        "id": "WRY9VKWUYYBw",
        "outputId": "77fe7bbf-7b2c-40df-c928-6a6ec23e2847"
      },
      "execution_count": 16,
      "outputs": [
        {
          "output_type": "stream",
          "name": "stdout",
          "text": [
            "Display multiplication table of 55\n",
            "55 x 1 = 55\n",
            "55 x 2 = 110\n",
            "55 x 3 = 165\n",
            "55 x 4 = 220\n",
            "55 x 5 = 275\n",
            "55 x 6 = 330\n",
            "55 x 7 = 385\n",
            "55 x 8 = 440\n",
            "55 x 9 = 495\n",
            "55 x 10 = 550\n"
          ]
        }
      ]
    },
    {
      "cell_type": "markdown",
      "source": [
        "##3. Write a Python Program to Print the Fibonacci sequence"
      ],
      "metadata": {
        "id": "z_i09_z8SZdJ"
      }
    },
    {
      "cell_type": "code",
      "source": [
        "num = int(input(\"Enter the Range: \"))\n",
        "x = 0\n",
        "y = 1\n",
        "for n in range(0, num):\n",
        "    if(n <= 1):\n",
        "        z = n\n",
        "    else:\n",
        "        z = x + y\n",
        "        x = y\n",
        "        y = z\n",
        "\n",
        "    print(z)\n",
        " \n",
        "\n",
        " \n"
      ],
      "metadata": {
        "colab": {
          "base_uri": "https://localhost:8080/"
        },
        "id": "VE0C22XhYqpv",
        "outputId": "43d7d5dc-b1e4-4e2e-f527-da014586bc2c"
      },
      "execution_count": 40,
      "outputs": [
        {
          "output_type": "stream",
          "name": "stdout",
          "text": [
            "Enter the Range: 7\n",
            "0\n",
            "1\n",
            "1\n",
            "2\n",
            "3\n",
            "5\n",
            "8\n"
          ]
        }
      ]
    },
    {
      "cell_type": "markdown",
      "source": [
        "##4. Write a Python Program to Check Armstrong Number?"
      ],
      "metadata": {
        "id": "hoF7ygH5Sex6"
      }
    },
    {
      "cell_type": "code",
      "source": [
        "number = int(input(\"Enter to check amstrong number: \"))\n",
        "order = len(str(number))\n",
        "temp = number\n",
        "sum = 0\n",
        "while temp!=0:\n",
        "    k = temp%10\n",
        "    sum = sum + (k**order)\n",
        "    temp = temp//10\n",
        "if sum==number:\n",
        "    print('Armstrong Number')\n",
        "else:\n",
        "    print('Not an Armstrong Number')\n"
      ],
      "metadata": {
        "colab": {
          "base_uri": "https://localhost:8080/"
        },
        "id": "xoDKIAWBbJdH",
        "outputId": "ca1ceb0d-ce48-4abc-f5c8-a096c6b960ba"
      },
      "execution_count": 33,
      "outputs": [
        {
          "output_type": "stream",
          "name": "stdout",
          "text": [
            "Enter to check amstrong number: 8208\n",
            "Armstrong Number\n"
          ]
        }
      ]
    },
    {
      "cell_type": "markdown",
      "source": [
        "##5. Write a Python Program to Find Armstrong Number in an Interval?"
      ],
      "metadata": {
        "id": "QDQ-tFc_Sfy6"
      }
    },
    {
      "cell_type": "code",
      "source": [
        "lower = int(input(\"Enter lower limit: \"))\n",
        "upper = int(input(\"Enter upper limit: \"))\n",
        "\n",
        "for num in range(lower, upper + 1):\n",
        "\n",
        "   order = len(str(num))\n",
        "   sum = 0\n",
        "\n",
        "   temp = num\n",
        "   while temp != 0:\n",
        "       k = temp % 10\n",
        "       sum =sum + (k ** order)\n",
        "       temp //= 10\n",
        "\n",
        "   if num == sum:\n",
        "       print(num)\n"
      ],
      "metadata": {
        "colab": {
          "base_uri": "https://localhost:8080/"
        },
        "id": "dJAgGu-7exsf",
        "outputId": "7653c86a-369c-455b-d29d-cf172a818743"
      },
      "execution_count": 32,
      "outputs": [
        {
          "output_type": "stream",
          "name": "stdout",
          "text": [
            "Enter lower limit: 1000\n",
            "Enter upper limit: 10000\n",
            "1634\n",
            "8208\n",
            "9474\n"
          ]
        }
      ]
    },
    {
      "cell_type": "markdown",
      "source": [
        "##6. Write a Python Program to Find the Sum of Natural Numbers?"
      ],
      "metadata": {
        "id": "_cuW4GnrSi-L"
      }
    },
    {
      "cell_type": "code",
      "source": [
        "nat = int(input(\"Enter natural number to find its sum : \"))\n",
        "s = 0\n",
        "for i in range(1,nat + 1):\n",
        "  s = s + i\n",
        "\n",
        "print(\"sum of\", nat ,\"natural numbers : \", s)\n"
      ],
      "metadata": {
        "colab": {
          "base_uri": "https://localhost:8080/"
        },
        "id": "8q-rlRVGgnGZ",
        "outputId": "efe11704-b0b4-4320-935b-2275c68d3453"
      },
      "execution_count": 39,
      "outputs": [
        {
          "output_type": "stream",
          "name": "stdout",
          "text": [
            "Enter natural number to find its sum : 9\n",
            "sum of 9 natural numbers :  45\n"
          ]
        }
      ]
    }
  ]
}