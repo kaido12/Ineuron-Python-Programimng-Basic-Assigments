{
  "nbformat": 4,
  "nbformat_minor": 0,
  "metadata": {
    "colab": {
      "name": "Python_Program_Basic_Assignment_6.ipynb",
      "provenance": [],
      "collapsed_sections": []
    },
    "kernelspec": {
      "name": "python3",
      "display_name": "Python 3"
    },
    "language_info": {
      "name": "python"
    }
  },
  "cells": [
    {
      "cell_type": "markdown",
      "source": [
        "##1. Write a Python Program to Display Fibonacci Sequence Using Recursion"
      ],
      "metadata": {
        "id": "GbSRDF5al7yR"
      }
    },
    {
      "cell_type": "code",
      "execution_count": 2,
      "metadata": {
        "colab": {
          "base_uri": "https://localhost:8080/"
        },
        "id": "JB9JjHQEl337",
        "outputId": "421d2ddb-a228-44ce-d311-ab3797bf41d2"
      },
      "outputs": [
        {
          "output_type": "stream",
          "name": "stdout",
          "text": [
            "Enter the terms :6\n",
            "Fibonacci sequence:\n",
            "0\n",
            "1\n",
            "1\n",
            "2\n",
            "3\n",
            "5\n"
          ]
        }
      ],
      "source": [
        "def Fib_Rec(a):  \n",
        "\n",
        "   if a <= 1:  \n",
        "       return a  \n",
        "   else:  \n",
        "       return(Fib_Rec(a-1) + Fib_Rec(a-2))  \n",
        "\n",
        "terms = int(input(\"Enter the terms :\")) \n",
        "  \n",
        "if terms <= 0:  \n",
        "   print(\"Please enter a positive integer\")  \n",
        "else:  \n",
        "   print(\"Fibonacci sequence:\")  \n",
        "\n",
        "   for z in range(terms):  \n",
        "\n",
        "       print(Fib_Rec(z))"
      ]
    },
    {
      "cell_type": "markdown",
      "source": [
        "##2. Write a Python Program to Find Factorial of Number Using Recursion"
      ],
      "metadata": {
        "id": "yfq6wo7gl_UG"
      }
    },
    {
      "cell_type": "code",
      "source": [
        "def recursive_factorial(n):\n",
        "  if n == 1:\n",
        "       return n\n",
        "  else:\n",
        "       return n*recursive_factorial(n-1)"
      ],
      "metadata": {
        "id": "CHJ5xH1noTz2"
      },
      "execution_count": 5,
      "outputs": []
    },
    {
      "cell_type": "code",
      "source": [
        "number = int(input(\"User Input : \"))\n",
        "if (number < 0):\n",
        "  print(\"Bad Input\")\n",
        "elif (number == 0):\n",
        "  print(\"The factorial of 0 is 1\")\n",
        "else:\n",
        "  print(\"The factorial of\", number, \"is\", recursive_factorial(number))"
      ],
      "metadata": {
        "colab": {
          "base_uri": "https://localhost:8080/"
        },
        "id": "HrvRBkYspab7",
        "outputId": "bf2f8539-d6bd-4af1-be2b-7555fdff8a89"
      },
      "execution_count": 8,
      "outputs": [
        {
          "output_type": "stream",
          "name": "stdout",
          "text": [
            "User Input : 6\n",
            "The factorial of 6 is 720\n"
          ]
        }
      ]
    },
    {
      "cell_type": "markdown",
      "source": [
        "##3. Write a Python Program to calculate your Body Mass Index"
      ],
      "metadata": {
        "id": "T-kAczCQmHpo"
      }
    },
    {
      "cell_type": "code",
      "source": [
        "weight=float(input(\"enter your weight (kg): \"))\n",
        "height=float(input(\"enter your height (cm): \"))/100\n",
        "\n",
        "def calculation_body_mass_index():\n",
        "  bmi=weight/(height**2)\n",
        "  print(bmi)\n",
        "  if bmi<=18.8:\n",
        "    print(\"Thin! Eat more.\")\n",
        "  elif bmi>=18.5 and bmi<=24.9:\n",
        "    print(\"Normal!, Maintain it. \")\n",
        "  elif bmi>=25 and bmi<=29.9:\n",
        "    print(\"Overweight!, You should diet.\")\n",
        "  else:\n",
        "    print(\"You are obese! Be careful and do Exercise.1\")\n",
        "\n",
        "calculation_body_mass_index()"
      ],
      "metadata": {
        "colab": {
          "base_uri": "https://localhost:8080/"
        },
        "id": "41BcmGzJp1VZ",
        "outputId": "830ee15f-2511-408e-d4bd-10e607209065"
      },
      "execution_count": 13,
      "outputs": [
        {
          "output_type": "stream",
          "name": "stdout",
          "text": [
            "enter your weight (kg): 89\n",
            "enter your height (cm): 180\n",
            "27.469135802469133\n",
            "Overweight!, You should diet.\n"
          ]
        }
      ]
    },
    {
      "cell_type": "markdown",
      "source": [
        "##4. Write a Python Program to calculate the natural logarithm of any number"
      ],
      "metadata": {
        "id": "340Uo5oImJ74"
      }
    },
    {
      "cell_type": "code",
      "source": [
        "import math\n",
        " \n",
        "n = float(input(\"Enter a number: \"))\n",
        "out = math.log(n)\n",
        "print (\"Natural logarithm of\",n,\"is\", out)\n",
        " "
      ],
      "metadata": {
        "colab": {
          "base_uri": "https://localhost:8080/"
        },
        "id": "NYjdaunStY9h",
        "outputId": "a5596df8-e589-44e2-c38c-b0930e2afcf4"
      },
      "execution_count": 15,
      "outputs": [
        {
          "output_type": "stream",
          "name": "stdout",
          "text": [
            "Enter a number: 4.7\n",
            "Natural logarithm of 4.7 is 1.547562508716013\n"
          ]
        }
      ]
    },
    {
      "cell_type": "markdown",
      "source": [
        "##5. Write a Python Program for cube sum of first n natural numbers"
      ],
      "metadata": {
        "id": "oH2sPlq8mWY1"
      }
    },
    {
      "cell_type": "code",
      "source": [
        "def cube_sum(n):\n",
        "    sum = 0\n",
        "    for i in range(1, n+1):\n",
        "        sum =sum + (i**3) \n",
        "    return sum\n",
        "\n",
        "x = int(input(\"Enter a number: \"))\n",
        "print(\"cube sum of\", x,\"natural number is\", cube_sum(x))"
      ],
      "metadata": {
        "colab": {
          "base_uri": "https://localhost:8080/"
        },
        "id": "Bzd0eHpxuyZV",
        "outputId": "5c054821-4929-495d-c2b2-200eff3fc16b"
      },
      "execution_count": 17,
      "outputs": [
        {
          "output_type": "stream",
          "name": "stdout",
          "text": [
            "Enter a number: 7\n",
            "cube sum of 7 natural number is 784\n"
          ]
        }
      ]
    }
  ]
}