{
  "nbformat": 4,
  "nbformat_minor": 0,
  "metadata": {
    "colab": {
      "name": "Python_Program_Basic_Assigment_2.ipynb",
      "provenance": [],
      "collapsed_sections": []
    },
    "kernelspec": {
      "name": "python3",
      "display_name": "Python 3"
    },
    "language_info": {
      "name": "python"
    }
  },
  "cells": [
    {
      "cell_type": "markdown",
      "source": [
        "### Q1 Write a Python program to convert kilometers to miles"
      ],
      "metadata": {
        "id": "zL_1VPHX7T5p"
      }
    },
    {
      "cell_type": "code",
      "source": [
        "k = float(input(\"Enter distance in kilometres: \"))\n",
        "m = a*0.6213\n",
        "\n",
        "print(\"Distance in miles = \", m)"
      ],
      "metadata": {
        "colab": {
          "base_uri": "https://localhost:8080/"
        },
        "id": "enoDGvxm7VMA",
        "outputId": "0f7af6fa-c619-49af-a688-797da02d369c"
      },
      "execution_count": 6,
      "outputs": [
        {
          "output_type": "stream",
          "name": "stdout",
          "text": [
            "Enter distance in kilometres: 20\n",
            "Distance in miles =  2.4852\n"
          ]
        }
      ]
    },
    {
      "cell_type": "markdown",
      "source": [
        "### Q2 Write a Python program to convert Celsius to Fahrenheit"
      ],
      "metadata": {
        "id": "NypfD5q78AWn"
      }
    },
    {
      "cell_type": "code",
      "source": [
        "c = float(input(\"Enter temperature in Celsius: \"))\n",
        "f = (c * 9/5) + 32\n",
        "print(\"Temperature in Fahrenheint = \", f)"
      ],
      "metadata": {
        "colab": {
          "base_uri": "https://localhost:8080/"
        },
        "id": "IyIbkaj-8M_J",
        "outputId": "6ef6574a-8657-4d99-e99e-8f6c1c16fcd1"
      },
      "execution_count": 9,
      "outputs": [
        {
          "output_type": "stream",
          "name": "stdout",
          "text": [
            "Enter temperature in Celsius: 37\n",
            "Temperature in Fahrenheint =  98.6\n"
          ]
        }
      ]
    },
    {
      "cell_type": "markdown",
      "source": [
        "### Q3 Write a Python program to display calendar"
      ],
      "metadata": {
        "id": "xKwRMVjG820I"
      }
    },
    {
      "cell_type": "code",
      "source": [
        "import calendar\n",
        "\n",
        "yy = int(input(\"Enter year: \"))\n",
        "mm = int(input(\"Enter month: \"))\n",
        "\n",
        "# display the calendar\n",
        "print(calendar.month(yy, mm))"
      ],
      "metadata": {
        "colab": {
          "base_uri": "https://localhost:8080/"
        },
        "id": "mRvwi_tW81vA",
        "outputId": "9658e53e-19a1-4530-b863-32dd5851c3e9"
      },
      "execution_count": 10,
      "outputs": [
        {
          "output_type": "stream",
          "name": "stdout",
          "text": [
            "Enter year: 2021\n",
            "Enter month: 08\n",
            "    August 2021\n",
            "Mo Tu We Th Fr Sa Su\n",
            "                   1\n",
            " 2  3  4  5  6  7  8\n",
            " 9 10 11 12 13 14 15\n",
            "16 17 18 19 20 21 22\n",
            "23 24 25 26 27 28 29\n",
            "30 31\n",
            "\n"
          ]
        }
      ]
    },
    {
      "cell_type": "markdown",
      "source": [
        "### Q4 Write a Python program to solve quadratic equation"
      ],
      "metadata": {
        "id": "RGlIAf2G-cQm"
      }
    },
    {
      "cell_type": "code",
      "source": [
        "# Solve the quadratic equation ax**2 + bx + c = 0\n",
        "\n",
        "import cmath\n",
        "\n",
        "a = int(input(\"Enter a: \"))\n",
        "b = int(input(\"Enter b: \"))\n",
        "c = int(input(\"Enter c: \"))\n",
        "\n",
        "# calculate the discriminant\n",
        "d = (b**2) - (4*a*c)\n",
        "\n",
        "# find two solutions\n",
        "sol1 = (-b-cmath.sqrt(d))/(2*a)\n",
        "sol2 = (-b+cmath.sqrt(d))/(2*a)\n",
        "\n",
        "print('The solution are {} and {}'.format(sol1,sol2))"
      ],
      "metadata": {
        "colab": {
          "base_uri": "https://localhost:8080/"
        },
        "id": "UXVV1wqf-mug",
        "outputId": "baeae18b-57e6-4931-d739-1b0eef6ff244"
      },
      "execution_count": 3,
      "outputs": [
        {
          "output_type": "stream",
          "name": "stdout",
          "text": [
            "Enter a: 4\n",
            "Enter b: 4\n",
            "Enter c: 2\n",
            "The solution are (-0.5-0.5j) and (-0.5+0.5j)\n"
          ]
        }
      ]
    },
    {
      "cell_type": "markdown",
      "source": [
        "### Q5 Write a Python program to swap two variables without temp variable"
      ],
      "metadata": {
        "id": "ny8V4DWk-kvH"
      }
    },
    {
      "cell_type": "code",
      "source": [
        "x = int(input(\"Enter first number \"))\n",
        "y = int(input(\"Enter second number \"))\n",
        "\n",
        "x,y = y,x\n",
        "\n",
        "print(\"Swapped numbers \\n\", x, y)"
      ],
      "metadata": {
        "colab": {
          "base_uri": "https://localhost:8080/"
        },
        "id": "2AY5L_3YBGaA",
        "outputId": "dfdc33c9-317c-4b71-ca2b-a256b1ba3000"
      },
      "execution_count": 4,
      "outputs": [
        {
          "output_type": "stream",
          "name": "stdout",
          "text": [
            "Enter first number 5\n",
            "Enter second number 7\n",
            "Swapped numbers \n",
            " 7 5\n"
          ]
        }
      ]
    }
  ]
}